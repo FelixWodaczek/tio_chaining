{
 "cells": [
  {
   "cell_type": "code",
   "execution_count": null,
   "metadata": {},
   "outputs": [],
   "source": [
    "import matplotlib as mpl\n",
    "import matplotlib.pyplot as plt\n",
    "import numpy as np\n",
    "\n",
    "import ase\n",
    "from ase.neighborlist import natural_cutoffs, NeighborList\n",
    "from ase.io.trajectory import Trajectory\n",
    "from ase.io import read as ase_read\n",
    "\n",
    "import os\n",
    "import json\n",
    "import sys\n",
    "sys.path.append(\"../py_src/\")\n",
    "\n",
    "import hydrogen_tracing\n",
    "import config_plot\n",
    "\n",
    "import re"
   ]
  },
  {
   "cell_type": "code",
   "execution_count": null,
   "metadata": {},
   "outputs": [],
   "source": [
    "is_rutile = True\n",
    "post_23_res = True"
   ]
  },
  {
   "cell_type": "code",
   "execution_count": null,
   "metadata": {},
   "outputs": [],
   "source": [
    "rutile_dirs = [\n",
    "    \"rutile-001-nd-0\",\n",
    "    \"rutile-011-nd-0\",\n",
    "    \"rutile-100-nd-0\",\n",
    "    \"rutile-110-nd-0\",\n",
    "]\n",
    "\n",
    "anatase_dirs = [\n",
    "    \"anatase-100-nd-0\",\n",
    "    \"anatase-101-nd-0\", \n",
    "    \"anatase-110-nd-0\", \n",
    "]\n",
    "\n",
    "if is_rutile:\n",
    "    target_dirs = rutile_dirs\n",
    "    savestr = 'rutile'\n",
    "else:\n",
    "    target_dirs = anatase_dirs\n",
    "    savestr = 'anatase'"
   ]
  },
  {
   "cell_type": "code",
   "execution_count": null,
   "metadata": {},
   "outputs": [],
   "source": [
    "all_counts = []\n",
    "all_config_codes = []\n",
    "all_hop_lists = []\n",
    "\n",
    "all_bins = []\n",
    "bin_maxes = []\n",
    "bin_mins = []\n",
    "\n",
    "total_min = -9\n",
    "total_max = 0\n",
    "\n",
    "for dirname in target_dirs:\n",
    "    if post_23_res:\n",
    "        dirname = \"../test_data/230109_short_traj_newres/\" + dirname\n",
    "    else:\n",
    "        dirname = \"../test_data/221223_short_traj_res/\" + dirname\n",
    "\n",
    "    with open(os.path.join(dirname, os.path.basename(dirname)+'_non_numpy.json'), 'r') as f:\n",
    "            non_numpy_results = json.load(f)\n",
    "            config_dict = non_numpy_results['config_dict']\n",
    "            special_list = non_numpy_results['special_list']\n",
    "            f.close()\n",
    "\n",
    "    counts = np.loadtxt(os.path.join(dirname, os.path.basename(dirname)+'_counts.txt'))\n",
    "    config_codes = np.loadtxt(os.path.join(dirname, os.path.basename(dirname)+'_config_codes.txt'))\n",
    "    hop_list = np.loadtxt(os.path.join(dirname, os.path.basename(dirname)+'_hop_list.txt'))\n",
    "\n",
    "    all_counts.append(np.asarray(counts, dtype=np.int16))\n",
    "    all_config_codes.append(np.asarray(config_codes, dtype=np.int8))\n",
    "    all_hop_lists.append(np.asarray(hop_list, dtype=np.int8))\n",
    "\n",
    "    # Make bin counts from last hop_list\n",
    "    all_bins.append(np.bincount(all_hop_lists[-1]-np.min(all_hop_lists[-1])))\n",
    "    bin_mins.append(np.min(all_hop_lists[-1]))\n",
    "    bin_maxes.append(np.max(all_hop_lists[-1]))\n",
    "\n",
    "    total_min = np.min(bin_mins)\n",
    "    total_max = np.max(bin_maxes)\n",
    "        \n",
    "total_min = -9"
   ]
  },
  {
   "cell_type": "code",
   "execution_count": null,
   "metadata": {},
   "outputs": [],
   "source": [
    "buff_bins = np.zeros((len(target_dirs), total_max-total_min+1))\n",
    "for ii_bin, bincount in enumerate(all_bins):\n",
    "    buff_bins[ii_bin, bin_mins[ii_bin]-total_min:bin_mins[ii_bin]-total_min+len(bincount)] = bincount\n",
    "\n",
    "all_bins = buff_bins\n",
    "label_range = np.arange(total_min, total_max+1)"
   ]
  },
  {
   "cell_type": "markdown",
   "metadata": {},
   "source": [
    " ## Raw Plot"
   ]
  },
  {
   "cell_type": "code",
   "execution_count": null,
   "metadata": {},
   "outputs": [],
   "source": [
    "%matplotlib inline\n",
    "\n",
    "# -9, -8, -7, -6, -5 ... -1\n",
    "if not post_23_res:\n",
    "    # 221223\n",
    "    labels = [\"Exchange of H?\", \"Undef.\", \"H20+Ti->H+HOTi\\nH+HOTi->H2O+Ti\", \"No change at site\", \"Surface Hopping\", \"Wrong Oxygen Observed\", \"H20 close to HOTi\", \"OTi gaining H\", \"OTi losing H\"]\n",
    "else:\n",
    "    # 230109\n",
    "    labels = [\"Exchange of H?\", \"Undef.\", \"H20+Ti->H+HOTi\\nH+HOTi->H2O+Ti\", \"Flyby\", \"Surface Hopping\", \"Flyby\", \"H20 close to HOTi\", \"OTi gaining H\", \"OTi losing H\"]\n",
    "labels += np.arange(0, np.max(total_max)+1).tolist()\n",
    "\n",
    "fig, ax = plt.subplots(1, 1, figsize=(6, 6))\n",
    "ax.set_title(\"Analysis of Ti hopping for H2O Splitting\")\n",
    "ax.set_xlabel('Error Codes \\ Number of Hops')\n",
    "ax.set_ylabel('# of occurences')\n",
    "\n",
    "n_bars = len(target_dirs)\n",
    "if n_bars % 2: # not even:\n",
    "    offsets = (np.arange(1, n_bars+1) - np.ceil(n_bars/2.)) / n_bars\n",
    "else:\n",
    "    offsets = (np.arange(n_bars) + 0.5 - (n_bars/2)) / n_bars\n",
    "\n",
    "for ii_dir in range(n_bars):\n",
    "    hop_counts = all_bins[ii_dir]\n",
    "    ax.bar(label_range + offsets[ii_dir], hop_counts, width=1./n_bars, label=target_dirs[ii_dir])\n",
    "\n",
    "ax.set_xticks(\n",
    "    label_range,\n",
    "    labels,\n",
    "    rotation=-45, ha=\"left\"\n",
    ")\n",
    "ax.legend()\n",
    "plt.show()"
   ]
  },
  {
   "cell_type": "markdown",
   "metadata": {},
   "source": [
    "## Post analysis"
   ]
  },
  {
   "cell_type": "code",
   "execution_count": null,
   "metadata": {},
   "outputs": [],
   "source": [
    "def find_0_index(labels):\n",
    "    for ii_label in range(-1, (-len(labels))-1, -1):\n",
    "        try:\n",
    "            int(labels[ii_label])\n",
    "        except:\n",
    "            return ii_label"
   ]
  },
  {
   "cell_type": "code",
   "execution_count": null,
   "metadata": {},
   "outputs": [],
   "source": [
    "# last_string = find_0_index(labels)\n",
    "if post_23_res:\n",
    "    oti_index = 8\n",
    "    closecall_index = [3, 5, 6]\n",
    "else:\n",
    "    oti_index = 8\n",
    "    closecall_index = 6\n",
    "\n",
    "erase_mistakes = True\n",
    "mist_max = 1\n",
    "\n",
    "find_hopping = True\n",
    "\n",
    "plot_bins = all_bins.copy()\n",
    "if find_hopping:\n",
    "    # Find cases where TiO to TiO dissociation happens\n",
    "    plot_bins[:, oti_index] = np.min(plot_bins[:, oti_index-1:oti_index+1], axis=-1)\n",
    "    plot_bins[:, oti_index-1] = 0\n",
    "\n",
    "    # Remove close calls (\"H20 close to HOTi\") manually\n",
    "    plot_bins[:, closecall_index] = 0\n",
    "\n",
    "    labels = [\"Exchange of H?\", \"Undef.\", \"proton transfer\\ntype 2\", \"No change at site\", \"Surface Hopping\", \"Wrong Oxygen Observed\", \"H20 close to HOTi\", \"Deleted\", \"proton transfer\\ntype 1\"]\n",
    "    labels += np.arange(0, np.max(total_max)+1).tolist()\n",
    "\n",
    "if erase_mistakes:\n",
    "    plot_bins[plot_bins < mist_max] = 0\n",
    "    \n",
    "is_zero = np.logical_and.reduce(plot_bins==0, axis=0)\n",
    "print(is_zero)"
   ]
  },
  {
   "cell_type": "markdown",
   "metadata": {},
   "source": [
    "## Pretty Plot"
   ]
  },
  {
   "cell_type": "code",
   "execution_count": null,
   "metadata": {},
   "outputs": [],
   "source": [
    "number_dict = {\"0\": \"zero\", \"1\": \"one\", \"2\": \"two\", \"3\": \"three\", \"4\": \"four\", \"5\": \"five\"}\n",
    "nz_labels = []\n",
    "\n",
    "# Remove zero labels\n",
    "for ii_nz in range(len(is_zero)):\n",
    "    if not is_zero[ii_nz]:\n",
    "        nz_labels.append(labels[ii_nz])\n",
    "\n",
    "# Proper step labelling\n",
    "for ii_label, label in enumerate(nz_labels):\n",
    "    try:\n",
    "        int_label = int(label)\n",
    "        nz_labels[ii_label] = number_dict[str(int_label+1)] + \"-step\"\n",
    "    except:\n",
    "        pass\n",
    "\n",
    "fig, ax = plt.subplots(1, 1, figsize=(6, 6))\n",
    "\n",
    "ax.set_title(\"Analysis H2O Dissociation\")\n",
    "ax.set_xlabel('Process')\n",
    "ax.set_ylabel('# of occurences')\n",
    "\n",
    "n_nz = np.sum(np.logical_not(is_zero).astype(np.int8))\n",
    "plot_ticks = np.arange(n_nz)*1.2 # for slight spacing\n",
    "\n",
    "for ii_dir in range(n_bars):\n",
    "    ax.bar(plot_ticks+offsets[ii_dir], plot_bins[ii_dir, np.logical_not(is_zero)], width=1./n_bars, label=target_dirs[ii_dir])\n",
    "\n",
    "ax.set_xticks(\n",
    "    plot_ticks,\n",
    "    nz_labels,\n",
    "    rotation=-45, ha=\"left\"\n",
    ")\n",
    "ax.legend()\n",
    "\n",
    "# ax.set_xlim((ax.get_xlim()[0]+1, ax.get_xlim()[1]))\n",
    "# ax.set_xlim([-0.5, 4.5])\n",
    "\n",
    "plt.tight_layout()\n",
    "fig.savefig(\"prettybars_%s.pdf\"%savestr, format=\"pdf\")\n",
    "plt.show()"
   ]
  },
  {
   "cell_type": "code",
   "execution_count": null,
   "metadata": {},
   "outputs": [],
   "source": [
    "plot_bins = all_bins.copy()\n",
    "\n",
    "plot_bins[:, label_range<0] = 0\n",
    "is_zero = np.logical_and.reduce(plot_bins==0, axis=0)"
   ]
  },
  {
   "cell_type": "code",
   "execution_count": null,
   "metadata": {},
   "outputs": [],
   "source": [
    "print(plot_ticks, is_zero)"
   ]
  },
  {
   "cell_type": "code",
   "execution_count": null,
   "metadata": {},
   "outputs": [],
   "source": [
    "nz_labels = []\n",
    "# Remove zero labels\n",
    "for ii_nz in range(len(is_zero)):\n",
    "    if not is_zero[ii_nz]:\n",
    "        nz_labels.append(labels[ii_nz])\n",
    "\n",
    "# Proper step labelling\n",
    "for ii_label, label in enumerate(nz_labels):\n",
    "    try:\n",
    "        int_label = int(label)\n",
    "        nz_labels[ii_label] = number_dict[str(int_label+1)] + \"-step\"\n",
    "    except:\n",
    "        pass\n",
    "\n",
    "fig, ax = plt.subplots(1, 1, figsize=(6, 6))\n",
    "\n",
    "ax.set_title(\"Analysis H2O Dissociation\")\n",
    "ax.set_xlabel('Process')\n",
    "ax.set_ylabel('# of occurences')\n",
    "\n",
    "n_nz = np.sum(np.logical_not(is_zero).astype(np.int8))\n",
    "plot_ticks = np.arange(n_nz)*1.2 # for slight spacing\n",
    "\n",
    "for ii_dir in range(n_bars):\n",
    "    ax.bar(plot_ticks+offsets[ii_dir], plot_bins[ii_dir, np.logical_not(is_zero)], width=1./n_bars, label=target_dirs[ii_dir])\n",
    "\n",
    "ax.set_xticks(\n",
    "    plot_ticks,\n",
    "    nz_labels,\n",
    "    rotation=-45, ha=\"left\"\n",
    ")\n",
    "ax.legend()\n",
    "\n",
    "# ax.set_xlim((ax.get_xlim()[0]+1, ax.get_xlim()[1]))\n",
    "# ax.set_xlim([-0.5, 4.5])\n",
    "\n",
    "plt.tight_layout()\n",
    "fig.savefig(\"onlyhops_%s.pdf\"%savestr, format=\"pdf\")\n",
    "plt.show()"
   ]
  },
  {
   "cell_type": "code",
   "execution_count": null,
   "metadata": {},
   "outputs": [],
   "source": []
  }
 ],
 "metadata": {
  "kernelspec": {
   "display_name": "Python 3 (ipykernel)",
   "language": "python",
   "name": "python3"
  },
  "language_info": {
   "codemirror_mode": {
    "name": "ipython",
    "version": 3
   },
   "file_extension": ".py",
   "mimetype": "text/x-python",
   "name": "python",
   "nbconvert_exporter": "python",
   "pygments_lexer": "ipython3",
   "version": "3.8.13 (default, Mar 28 2022, 06:16:26) \n[Clang 12.0.0 ]"
  },
  "vscode": {
   "interpreter": {
    "hash": "89c38489e3a3631c28bb34ee29ee1d19eecb11ca19c23361330a3cc012ae8209"
   }
  }
 },
 "nbformat": 4,
 "nbformat_minor": 2
}
