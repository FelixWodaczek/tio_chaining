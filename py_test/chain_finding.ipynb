{
 "cells": [
  {
   "cell_type": "code",
   "execution_count": null,
   "id": "7fe77dcb",
   "metadata": {},
   "outputs": [],
   "source": [
    "import matplotlib as mpl\n",
    "import matplotlib.pyplot as plt\n",
    "import numpy as np\n",
    "\n",
    "import ase\n",
    "from ase.neighborlist import natural_cutoffs, NeighborList\n",
    "from ase.io.trajectory import Trajectory\n",
    "from ase.io import read as ase_read\n",
    "\n",
    "import sys\n",
    "sys.path.append(\"../py_src/\")\n",
    "\n",
    "import hydrogen_tracing\n",
    "\n",
    "import re\n",
    "import pickle"
   ]
  },
  {
   "cell_type": "code",
   "execution_count": null,
   "id": "9b173a6c",
   "metadata": {},
   "outputs": [],
   "source": [
    "traj_path = '../test_data/221220_short_traj/anatase-100-nd-0/out.lammpstrj'\n",
    "newrun = False\n",
    "\n",
    "if newrun:\n",
    "    p_file = open(\"chain_finding.dump\", 'wb')\n",
    "    trajectory = ase_read(traj_path, index='1000:10000:10') # index=':' loads the whole trajectory into memory, consider not doing that\n",
    "    pickle.dump(trajectory, p_file)\n",
    "else:\n",
    "    p_file = open(\"chain_finding.dump\", 'rb')\n",
    "    trajectory = pickle.load(p_file)\n",
    "# Could be better to just iterate through the file using index='%u'%ii"
   ]
  },
  {
   "cell_type": "code",
   "execution_count": null,
   "id": "1611f80f",
   "metadata": {},
   "outputs": [],
   "source": [
    "print(len(trajectory))"
   ]
  },
  {
   "cell_type": "code",
   "execution_count": null,
   "id": "74b18e12",
   "metadata": {},
   "outputs": [],
   "source": [
    "chain_finder = hydrogen_tracing.HOchainFinder(trajectory)\n",
    "if newrun:\n",
    "    config_dict, counts, config_codes = chain_finder.all_configs()\n",
    "    pickle.dump([config_dict, counts, config_codes], p_file)\n",
    "else:\n",
    "    config_dict, counts, config_codes = pickle.load(p_file)"
   ]
  },
  {
   "cell_type": "code",
   "execution_count": null,
   "id": "d9af8a51",
   "metadata": {},
   "outputs": [],
   "source": [
    "configs = ['']*len(config_dict)\n",
    "for key, value in config_dict.items():\n",
    "    configs[value] = key\n",
    "\n",
    "total_counts = np.sum(counts, axis=0)\n",
    "print(\"In total found: \")\n",
    "for ii_conf in range(total_counts.shape[0]):\n",
    "    print(configs[ii_conf]+': ', total_counts[ii_conf])"
   ]
  },
  {
   "cell_type": "code",
   "execution_count": null,
   "id": "1ba823c4",
   "metadata": {},
   "outputs": [],
   "source": [
    "if newrun:\n",
    "    special_list = chain_finder.find_special_configs()\n",
    "    pickle.dump(special_list, p_file)\n",
    "else:\n",
    "    special_list = pickle.load(p_file)\n",
    "p_file.close()"
   ]
  },
  {
   "cell_type": "code",
   "execution_count": null,
   "id": "d40f952f",
   "metadata": {
    "scrolled": true
   },
   "outputs": [],
   "source": [
    "import pandas as pd\n",
    "\n",
    "symbols = []\n",
    "for ii_special, specials in enumerate(special_list):\n",
    "    ii_snapshot = ii_special + 1\n",
    "    snapshot = chain_finder.trajectory[ii_snapshot]\n",
    "    for special_config in specials:\n",
    "        symbols.append(snapshot[special_config].get_chemical_formula(mode='hill'))\n",
    "        \n",
    "count = pd.Series(symbols).value_counts()\n",
    "print(count)"
   ]
  },
  {
   "cell_type": "code",
   "execution_count": null,
   "id": "ea976c6e",
   "metadata": {},
   "outputs": [],
   "source": [
    "hop_list = []\n",
    "for ii_step, specials in enumerate(special_list):\n",
    "    # Go through all found special configurations\n",
    "    ii_step += 1\n",
    "    if ii_step % 100 == 0:\n",
    "        print(ii_step)\n",
    "\n",
    "    if len(special_list) != 0:\n",
    "        for special_config in specials:\n",
    "            hops = chain_finder.find_hopping(special_config[-1], ii_step, counter=0, verbose=False)\n",
    "            hop_list.append(hops)\n",
    "            if hops == 0:\n",
    "                chain_finder.find_hopping(special_config[-1], ii_step, counter=0, verbose=True)"
   ]
  },
  {
   "cell_type": "code",
   "execution_count": null,
   "id": "7a360ff3",
   "metadata": {
    "scrolled": true
   },
   "outputs": [],
   "source": [
    "hop_list = chain_finder.analyse_special_configs(special_list, verbose=False)"
   ]
  },
  {
   "cell_type": "code",
   "execution_count": null,
   "id": "ab39eace",
   "metadata": {},
   "outputs": [],
   "source": [
    "%matplotlib inline\n",
    "print(hop_list)\n",
    "hops = np.asarray(hop_list)\n",
    "print(np.min(hop_list), np.max(hop_list))\n",
    "hop_counts = np.bincount(hop_list-np.min(hop_list))\n",
    "print(hop_counts)\n",
    "\n",
    "#-8, -7, -6, -5 ... -1\n",
    "labels = [\"Exchange of H?\", \"H ends at\\nHOTi->H2O Ti\", \"H ends at\\nHOTi->H2O Ti\", \"No change at site\", \"Surface Hopping\", \"Wrong Oxygen Observed\", \"H20 close to HOTi\", \"End of Chain\", \"OTi losing H\"]\n",
    "labels += np.arange(0, np.max(hop_list)+1).tolist()\n",
    "\n",
    "fig, ax = plt.subplots(1, 1, figsize=(6, 6))\n",
    "ax.set_title(\"Analysis of Ti hopping for H2O Splitting\")\n",
    "ax.set_xlabel('Error Codes \\ Number of Hops')\n",
    "ax.set_ylabel('# of occurences')\n",
    "\n",
    "ax.bar(np.arange(np.min(hop_list), np.max(hop_list)+1), hop_counts)\n",
    "\n",
    "ax.set_xticks(\n",
    "    np.arange(np.min(hop_list), np.max(hop_list)+1),\n",
    "    labels[-(np.max(hop_list) + 1 - np.min(hop_list)):],\n",
    "    rotation=-45, ha=\"left\"\n",
    ")\n",
    "plt.show()"
   ]
  },
  {
   "cell_type": "code",
   "execution_count": null,
   "id": "bb534ebb",
   "metadata": {},
   "outputs": [],
   "source": [
    "for key, value in config_dict.items():\n",
    "    print(key, value)"
   ]
  },
  {
   "cell_type": "code",
   "execution_count": null,
   "id": "4d9ffb6d",
   "metadata": {},
   "outputs": [],
   "source": [
    "draw_codes = config_codes.copy()[1:, :]\n",
    "\n",
    "water_bound = np.array([0, 3, 4], dtype=np.int8)\n",
    "bulk_bound = np.array([1, 2], dtype=np.int8)\n",
    "\n",
    "wb_tf = np.any(draw_codes[..., np.newaxis] == water_bound[np.newaxis, np.newaxis, :], axis=-1)\n",
    "\n",
    "# Filter out oxygen that never changes state\n",
    "has_changed = np.any(draw_codes != draw_codes[0, :], axis=0)\n",
    "always_waterbound = np.all(np.any(draw_codes[..., np.newaxis] == water_bound[np.newaxis, np.newaxis, :], axis=-1), axis=0)\n",
    "always_bulk = np.all(np.any(draw_codes[..., np.newaxis] == bulk_bound[np.newaxis, np.newaxis, :], axis=-1), axis=0)\n",
    "always_relevant = np.logical_not(np.logical_or(always_waterbound, always_bulk))\n",
    "\n",
    "particle_selection = np.logical_and(has_changed,always_relevant)\n",
    "\n",
    "draw_codes = draw_codes[:, particle_selection]\n",
    "draw_codes = draw_codes[:, :]\n",
    "\n",
    "norm = mpl.colors.Normalize(vmin=np.min([v for v in config_dict.values()]), vmax=np.max([v for v in config_dict.values()]))\n",
    "fig, ax = plt.subplots(1, 1, figsize=(25, 6))\n",
    "im = ax.imshow(draw_codes.T, aspect='auto', norm=norm, cmap=\"tab10\", interpolation='nearest')\n",
    "ax.set_xlim([0, draw_codes.shape[0]-1])\n",
    "cb = fig.colorbar(im)\n",
    "cb.ax.set_yticks(np.arange(len(config_dict)), labels=[key for key in config_dict.keys()])\n",
    "plt.show()"
   ]
  },
  {
   "cell_type": "code",
   "execution_count": null,
   "id": "eba14d99",
   "metadata": {},
   "outputs": [],
   "source": [
    "%matplotlib auto\n",
    "\n",
    "cur_step = 774\n",
    "oxygen_index = 416\n",
    "cur_gone_bound_oxygen = [65, 130, 64, 60, 70, 71]\n",
    "neighs = [60, 63]\n",
    "\n",
    "print(chain_finder.trajectory[cur_step][oxygen_index])\n",
    "hydrogen_tracing.HOchainFinder.plot_snapshot(chain_finder.trajectory[cur_step], cur_gone_bound_oxygen[0], neighs)"
   ]
  },
  {
   "cell_type": "code",
   "execution_count": null,
   "id": "d1a88ca6",
   "metadata": {},
   "outputs": [],
   "source": [
    "%matplotlib auto\n",
    "\n",
    "plot_num = 1\n",
    "print(n_specials[plot_num])\n",
    "chain_finder.plot_special_config(trajectory[plot_num], natural_cutoffs(trajectory[plot_num], mult=0.75))"
   ]
  },
  {
   "cell_type": "code",
   "execution_count": null,
   "id": "6c9fecdc",
   "metadata": {},
   "outputs": [],
   "source": []
  }
 ],
 "metadata": {
  "kernelspec": {
   "display_name": "Python 3 (ipykernel)",
   "language": "python",
   "name": "python3"
  },
  "language_info": {
   "codemirror_mode": {
    "name": "ipython",
    "version": 3
   },
   "file_extension": ".py",
   "mimetype": "text/x-python",
   "name": "python",
   "nbconvert_exporter": "python",
   "pygments_lexer": "ipython3",
   "version": "3.9.13"
  },
  "vscode": {
   "interpreter": {
    "hash": "89c38489e3a3631c28bb34ee29ee1d19eecb11ca19c23361330a3cc012ae8209"
   }
  }
 },
 "nbformat": 4,
 "nbformat_minor": 5
}
