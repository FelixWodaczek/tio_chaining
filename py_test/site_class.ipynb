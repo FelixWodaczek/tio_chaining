{
 "cells": [
  {
   "attachments": {},
   "cell_type": "markdown",
   "metadata": {},
   "source": [
    "# Classifying Defect Sites on TiO Surfaces"
   ]
  },
  {
   "attachments": {},
   "cell_type": "markdown",
   "metadata": {},
   "source": [
    "## Imports\n",
    "\n",
    "Get packages needed for computation and load trajectory from `.lammpstrj` file.\n",
    "\n",
    "Some packages might not already be in your Python installation, make sure you have the following installed:\n",
    "This requires the [ASE](https://wiki.fysik.dtu.dk/ase/), [dscribe](https://singroup.github.io/dscribe/latest/) and [sklearn](https://scikit-learn.org/stable/index.html) Python libraries for neighborlists, trajectory handling and building and analysis of atomic descriptors.\n",
    "\n",
    "In the future, or alternatively, [ASAP](https://github.com/BingqingCheng/ASAP) could be used to handle the building and analysis part."
   ]
  },
  {
   "cell_type": "code",
   "execution_count": null,
   "metadata": {},
   "outputs": [],
   "source": [
    "import numpy as np\n",
    "import matplotlib as mpl\n",
    "import matplotlib.pyplot as plt\n",
    "import pandas as pd\n",
    "\n",
    "from ase.neighborlist import NeighborList, natural_cutoffs\n",
    "from ase.io import read as ase_read, write as ase_write\n",
    "from dscribe.descriptors import SOAP\n",
    "from sklearn.decomposition import PCA, KernelPCA\n",
    "from sklearn.manifold import TSNE"
   ]
  },
  {
   "cell_type": "code",
   "execution_count": null,
   "metadata": {},
   "outputs": [],
   "source": [
    "trajectory_path = \"defect_test_out.lammpstrj\"\n",
    "trajectory = ase_read(trajectory_path, index=':100')"
   ]
  },
  {
   "attachments": {},
   "cell_type": "markdown",
   "metadata": {},
   "source": [
    "Get indices of all individual elements for later use."
   ]
  },
  {
   "cell_type": "code",
   "execution_count": null,
   "metadata": {},
   "outputs": [],
   "source": [
    "ti_indices, o_indices, h_indices = [], [], []\n",
    "\n",
    "for ii_symbol, symbol in enumerate(trajectory[0].get_chemical_symbols()):\n",
    "    if symbol == 'Ti':\n",
    "        ti_indices.append(ii_symbol)\n",
    "    elif symbol == 'H':\n",
    "        h_indices.append(ii_symbol)\n",
    "    elif symbol == 'O':\n",
    "        o_indices.append(ii_symbol)\n",
    "    else:\n",
    "        raise ValueError(\"Undefined element {symbol} found in initial snapshot at index {ii_symbol}.\")\n"
   ]
  },
  {
   "cell_type": "markdown",
   "metadata": {},
   "source": [
    "## Get Atomic Configurations via Neighbor Lists\n",
    "\n",
    "Use the `dscribe.neighborlist` package to gain a rough idea of the atomic configuration of each oxygen atom."
   ]
  },
  {
   "cell_type": "code",
   "execution_count": null,
   "metadata": {},
   "outputs": [],
   "source": [
    "neighbor_list = NeighborList(cutoffs=natural_cutoffs(trajectory[0], mult=1.), self_interaction=False, bothways=True)\n",
    "neighbor_list.update(trajectory[0])\n",
    "\n",
    "o_neighbors = []\n",
    "for o_index in o_indices:\n",
    "    o_neighbors.append(np.append([o_index], neighbor_list.get_neighbors(o_index)[0]))"
   ]
  },
  {
   "cell_type": "code",
   "execution_count": null,
   "metadata": {},
   "outputs": [],
   "source": [
    "o_symbols = []\n",
    "for o_neighbor in o_neighbors:\n",
    "    o_symbols.append(trajectory[0][o_neighbor].get_chemical_formula(mode='hill'))\n",
    "\n",
    "configs = pd.Series(o_symbols).value_counts()\n",
    "print(configs)"
   ]
  },
  {
   "cell_type": "markdown",
   "metadata": {},
   "source": [
    "## Get Atomic Configurations via Neighbor Lists\n",
    "\n",
    "Use the `dscribe.neighborlist` package to gain a rough idea of the atomic configuration of each oxygen atom."
   ]
  },
  {
   "cell_type": "code",
   "execution_count": null,
   "metadata": {},
   "outputs": [],
   "source": [
    "neighbor_list = NeighborList(cutoffs=natural_cutoffs(trajectory[0], mult=1.), self_interaction=False, bothways=True)\n",
    "neighbor_list.update(trajectory[0])\n",
    "\n",
    "o_neighbors = []\n",
    "for o_index in o_indices:\n",
    "    o_neighbors.append(np.append([o_index], neighbor_list.get_neighbors(o_index)[0]))"
   ]
  },
  {
   "cell_type": "code",
   "execution_count": null,
   "metadata": {},
   "outputs": [],
   "source": [
    "o_symbols = []\n",
    "for o_neighbor in o_neighbors:\n",
    "    o_symbols.append(trajectory[0][o_neighbor].get_chemical_formula(mode='hill'))\n",
    "\n",
    "configs = pd.Series(o_symbols).value_counts()\n",
    "print(configs)"
   ]
  },
  {
   "attachments": {},
   "cell_type": "markdown",
   "metadata": {},
   "source": [
    "## Building Atomic Descriptors\n",
    "\n",
    "Currently `r_cut` is being set to just be any number, in the future it would make sense to make some sort of educated guess.\n",
    "Some multiple of the distance to the mean of nearest neighbour?\n",
    "The number of basis functions in `n_max` and `l_max` is also chosen arbitrarily as of now."
   ]
  },
  {
   "cell_type": "code",
   "execution_count": null,
   "metadata": {},
   "outputs": [],
   "source": [
    "is_bulk = np.asarray(['Ti' in o_symbol for o_symbol in o_symbols], dtype=bool)\n",
    "bulk_symbols = [o_symbol for ii_symbol, o_symbol in enumerate(o_symbols) if is_bulk[ii_symbol]]\n",
    "\n",
    "soap = SOAP(r_cut=5., n_max=12, l_max=12, sigma=0.4, species=['Ti', 'H', 'O'], periodic=True) # Periodic to true if SOAP should respect the periodicity in ASE.Atoms\n",
    "soaps = soap.create(trajectory[0], positions=o_indices)\n",
    "print(soaps.shape)"
   ]
  },
  {
   "attachments": {},
   "cell_type": "markdown",
   "metadata": {},
   "source": [
    "## Analyse Atomic Descriptors\n",
    "\n",
    "Use kernelPCA or PCA to build a low dimensional representation of the SOAP operators.\n",
    "Ideally, the defect site should show up seperately on this representation."
   ]
  },
  {
   "cell_type": "code",
   "execution_count": null,
   "metadata": {},
   "outputs": [],
   "source": [
    "# All oxygen\n",
    "pca = PCA(n_components=2)\n",
    "reduction = pca.fit_transform(soaps)\n",
    "kernel_pca = KernelPCA(n_components=2, kernel='rbf')\n",
    "kernel_reduction = kernel_pca.fit_transform(soaps)\n",
    "tsne = TSNE(n_components=2, perplexity=30)\n",
    "tsne_reduction = tsne.fit_transform(soaps)\n",
    "\n",
    "# Only Ti bonded\n",
    "bulk_pca = PCA(n_components=2)\n",
    "bulk_reduction = bulk_pca.fit_transform(soaps[is_bulk])\n",
    "bulk_kernel_pca = KernelPCA(n_components=2)\n",
    "bulk_kernel_reduction = bulk_kernel_pca.fit_transform(soaps[is_bulk])\n",
    "bulk_tsne = TSNE(n_components=2, perplexity=30)\n",
    "bulk_tsne_reduction = bulk_tsne.fit_transform(soaps[is_bulk])"
   ]
  },
  {
   "cell_type": "code",
   "execution_count": null,
   "metadata": {},
   "outputs": [],
   "source": [
    "# Indices of them oxygen atoms around the defect site\n",
    "defect_inds = np.array([69, 68, 128, 63], dtype=np.int16)\n",
    "defect_soaps = soap.create(trajectory[0], positions=defect_inds)\n",
    "\n",
    "# All oxygen\n",
    "defect_reduction = pca.transform(defect_soaps)\n",
    "defect_kernel_reduction = kernel_pca.transform(defect_soaps)\n",
    "\n",
    "# Only Ti bonded\n",
    "bulk_defect_reduction = bulk_pca.transform(defect_soaps)\n",
    "bulk_defect_kernel_reduction = bulk_kernel_pca.transform(defect_soaps)"
   ]
  },
  {
   "cell_type": "code",
   "execution_count": null,
   "metadata": {},
   "outputs": [],
   "source": [
    "def draw_2d_scatter(fig, ax, reduction, color_dict, o_symbols, special_inds=None):\n",
    "    colors = [color_dict[config] for config in o_symbols]\n",
    "    ax.scatter(reduction[:, 0], reduction[:, 1], c=colors)\n",
    "    \n",
    "    return fig, ax\n",
    "\n",
    "fig, axes = plt.subplots(nrows=2, ncols=3, figsize=(8, 8))\n",
    "\n",
    "cmap = plt.cm.get_cmap('tab20', len(configs))\n",
    "norm = plt.Normalize(vmin=-0.5, vmax=len(configs)-0.5)\n",
    "sm = plt.cm.ScalarMappable(cmap=cmap, norm=norm)\n",
    "\n",
    "color_dict = {config: sm.to_rgba(ii_config) for ii_config, config in enumerate(configs.keys())}\n",
    "colors = [color_dict[config] for config in o_symbols]\n",
    "\n",
    "draw_2d_scatter(fig, axes[0, 0], reduction, color_dict, o_symbols)\n",
    "draw_2d_scatter(fig, axes[0, 1], kernel_reduction, color_dict, o_symbols)\n",
    "draw_2d_scatter(fig, axes[0, 2], tsne_reduction, color_dict, o_symbols)\n",
    "draw_2d_scatter(fig, axes[1, 0], bulk_reduction, color_dict, bulk_symbols)\n",
    "draw_2d_scatter(fig, axes[1, 1], bulk_kernel_reduction, color_dict, bulk_symbols)\n",
    "draw_2d_scatter(fig, axes[1, 2], bulk_tsne_reduction, color_dict, bulk_symbols)\n",
    "\n",
    "axes[0, 0].scatter(defect_reduction[:, 0], defect_reduction[:, 1], color='r')\n",
    "axes[0, 1].scatter(defect_kernel_reduction[:, 0], defect_kernel_reduction[:, 1], color='r')\n",
    "axes[1, 0].scatter(bulk_defect_reduction[:, 0], bulk_defect_reduction[:, 1], color='r')\n",
    "axes[1, 1].scatter(bulk_defect_kernel_reduction[:, 0], bulk_defect_kernel_reduction[:, 1], color='r')\n",
    "\n",
    "axes[0, 0].set_title(\"PCA all O SOAPs\")\n",
    "axes[0, 1].set_title(\"Kernel PCA all O SOAPs\")\n",
    "axes[0, 2].set_title(\"tSNE all O SOAPs\")\n",
    "axes[1, 0].set_title(\"PCA bulk O SOAPs\")\n",
    "axes[1, 1].set_title(\"Kernel PCA bulk O SOAPs\")\n",
    "axes[1, 2].set_title(\"tSNE bulk O SOAPs\")\n",
    "\n",
    "cb = fig.colorbar(mappable=sm, ax=axes[:, 2])\n",
    "cb.set_ticks(range(len(configs)), labels=configs.keys())\n",
    "\n",
    "fig.suptitle(\"Oxygen around defect site marked in red\")"
   ]
  },
  {
   "attachments": {},
   "cell_type": "markdown",
   "metadata": {},
   "source": [
    "## Building SOAPs and Projections along the whole TiO Surface\n",
    "\n",
    "The previous dimensionality reductions show, that bulk oxygen separates from surface oxygens.\n",
    "Maybe by creating a grid over the surface of the TiO and calculating the SOAPs at certain spaced intervals, a definition of the defect site can be found.\n",
    "Maybe by optimising on this plane (for eg.: largest difference to previous soaps) the site can be found.\n",
    "Additionally, the projection of the SOAPs around the approximate defect site is calculated, to gain some understanding of how it is represented.\n",
    "\n",
    "Although none-surface molecules (such as water) could have an impact on this process, so maybe the molecules should be filtered first for being part of the \"bulk\", especially for building SOAPs."
   ]
  },
  {
   "cell_type": "code",
   "execution_count": null,
   "metadata": {},
   "outputs": [],
   "source": [
    "# Number of points along each axis of mesh\n",
    "n_points = 20\n",
    "\n",
    "# Define a 2D surface mesh\n",
    "sim_cell = trajectory[0].cell.lengths()\n",
    "height = 0\n",
    "x = np.linspace(0, sim_cell[0], n_points)\n",
    "y = np.linspace(0, sim_cell[1], n_points)\n",
    "# Make mesh and build a 20x20x3 set of coordinates on plane\n",
    "xplane, yplane, zplane = np.meshgrid(x, y, height)\n",
    "plane = np.append(np.append(xplane[..., np.newaxis], yplane[..., np.newaxis], axis=-1), zplane[..., np.newaxis], axis=-1)[:, :, 0, :]\n",
    "\n",
    "# Define 3D cube mesh\n",
    "z = np.linspace(0, 5, n_points) # Only upper half of Ti block\n",
    "# Make mesh and build a 20x20x20x3 set of coordinates of cube\n",
    "xcube, ycube, zcube = np.meshgrid(x, y, z)\n",
    "cube = np.append(np.append(xcube[..., np.newaxis], ycube[..., np.newaxis], axis=-1), zcube[..., np.newaxis], axis=-1)"
   ]
  },
  {
   "cell_type": "code",
   "execution_count": null,
   "metadata": {},
   "outputs": [],
   "source": [
    "cube_soaps = soap.create(trajectory[0], positions=cube.reshape((n_points**3), 3))\n",
    "cube_bulk_projection = bulk_pca.transform(cube_soaps)"
   ]
  },
  {
   "cell_type": "code",
   "execution_count": null,
   "metadata": {},
   "outputs": [],
   "source": [
    "defect_pos = np.array([3.01, 5.6, 0.8])\n",
    "defect_proj = bulk_pca.transform(soap.create(trajectory[0], positions=defect_pos[np.newaxis, :]))"
   ]
  },
  {
   "cell_type": "code",
   "execution_count": null,
   "metadata": {},
   "outputs": [],
   "source": [
    "fig, axes = plt.subplots(nrows=1, ncols=3, figsize=(12, 3))\n",
    "\n",
    "cb = axes[0].scatter(cube_bulk_projection[:, 0], cube_bulk_projection[:, 1], c=xcube.flatten(), alpha=0.5)\n",
    "fig.colorbar(cb, ax=axes[0], label='x')\n",
    "cb = axes[1].scatter(cube_bulk_projection[:, 0], cube_bulk_projection[:, 1], c=ycube.flatten(), alpha=0.5)\n",
    "fig.colorbar(cb, ax=axes[1], label='y')\n",
    "cb = axes[2].scatter(cube_bulk_projection[:, 0], cube_bulk_projection[:, 1], c=zcube.flatten(), alpha=0.5)\n",
    "fig.colorbar(cb, ax=axes[2], label='z')\n",
    "\n",
    "for ax in axes:\n",
    "    ax.scatter(defect_proj[:, 0], defect_proj[:, 1], c='r', s=20, label='Approximate defect site')\n",
    "    draw_2d_scatter(fig, ax, bulk_reduction, color_dict, bulk_symbols)\n",
    "\n",
    "fig.suptitle(\"PCA of 3D cube in TiO\")\n",
    "\n",
    "plt.show()"
   ]
  },
  {
   "cell_type": "code",
   "execution_count": null,
   "metadata": {},
   "outputs": [],
   "source": []
  }
 ],
 "metadata": {
  "kernelspec": {
   "display_name": "base",
   "language": "python",
   "name": "python3"
  },
  "language_info": {
   "codemirror_mode": {
    "name": "ipython",
    "version": 3
   },
   "file_extension": ".py",
   "mimetype": "text/x-python",
   "name": "python",
   "nbconvert_exporter": "python",
   "pygments_lexer": "ipython3",
   "version": "3.9.16"
  },
  "orig_nbformat": 4
 },
 "nbformat": 4,
 "nbformat_minor": 2
}
