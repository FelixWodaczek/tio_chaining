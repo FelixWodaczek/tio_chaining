{
 "cells": [
  {
   "attachments": {},
   "cell_type": "markdown",
   "metadata": {},
   "source": [
    "# Classifying Defect Sites on TiO Surfaces"
   ]
  },
  {
   "attachments": {},
   "cell_type": "markdown",
   "metadata": {},
   "source": [
    "## Imports\n",
    "\n",
    "Get packages needed for computation and load trajectory from `.lammpstrj` file.\n",
    "\n",
    "Some packages might not already be in your Python installation, make sure you have the following installed:\n",
    "This requires the [ASE](https://wiki.fysik.dtu.dk/ase/), [dscribe](https://singroup.github.io/dscribe/latest/) and [sklearn](https://scikit-learn.org/stable/index.html) Python libraries for neighborlists, trajectory handling and building and analysis of atomic descriptors.\n",
    "\n",
    "In the future, or alternatively, [ASAP](https://github.com/BingqingCheng/ASAP) could be used to handle the building and analysis part."
   ]
  },
  {
   "cell_type": "code",
   "execution_count": null,
   "metadata": {},
   "outputs": [],
   "source": [
    "import numpy as np\n",
    "import matplotlib as mpl\n",
    "import matplotlib.pyplot as plt\n",
    "import pandas as pd\n",
    "\n",
    "from ase.neighborlist import NeighborList, natural_cutoffs\n",
    "from ase.io import read as ase_read, write as ase_write\n",
    "from dscribe.descriptors import SOAP\n",
    "from sklearn.decomposition import PCA, KernelPCA"
   ]
  },
  {
   "cell_type": "code",
   "execution_count": null,
   "metadata": {},
   "outputs": [],
   "source": [
    "trajectory_path = \"defect_test_out.lammpstrj\"\n",
    "trajectory = ase_read(trajectory_path, index=':100')"
   ]
  },
  {
   "attachments": {},
   "cell_type": "markdown",
   "metadata": {},
   "source": [
    "Get indices of all individual elements for later use."
   ]
  },
  {
   "cell_type": "code",
   "execution_count": null,
   "metadata": {},
   "outputs": [],
   "source": [
    "ti_indices, o_indices, h_indices = [], [], []\n",
    "\n",
    "for ii_symbol, symbol in enumerate(trajectory[0].get_chemical_symbols()):\n",
    "    if symbol == 'Ti':\n",
    "        ti_indices.append(ii_symbol)\n",
    "    elif symbol == 'H':\n",
    "        h_indices.append(ii_symbol)\n",
    "    elif symbol == 'O':\n",
    "        o_indices.append(ii_symbol)\n",
    "    else:\n",
    "        raise ValueError(\"Undefined element {symbol} found in initial snapshot at index {ii_symbol}.\")\n"
   ]
  },
  {
   "attachments": {},
   "cell_type": "markdown",
   "metadata": {},
   "source": [
    "## Building Atomic Descriptors\n",
    "\n",
    "Currently `r_cut` is being set to just be any number, in the future it would make sense to make some sort of educated guess.\n",
    "Some multiple of the distance to the mean of nearest neighbour?\n",
    "The number of basis functions in `n_max` and `l_max` is also chosen arbitrarily as of now."
   ]
  },
  {
   "cell_type": "code",
   "execution_count": null,
   "metadata": {},
   "outputs": [],
   "source": [
    "soap = SOAP(r_cut=5., n_max=12, l_max=12, sigma=0.4, species=['Ti', 'H', 'O'])\n",
    "soaps = soap.create(trajectory[0], positions=o_indices)\n",
    "print(soaps.shape)"
   ]
  },
  {
   "attachments": {},
   "cell_type": "markdown",
   "metadata": {},
   "source": [
    "## Get Atomic Configurations via Neighbor Lists\n",
    "\n",
    "Use the `dscribe.neighborlist` package to gain a rough idea of the atomic configuration of each oxygen atom."
   ]
  },
  {
   "cell_type": "code",
   "execution_count": null,
   "metadata": {},
   "outputs": [],
   "source": [
    "neighbor_list = NeighborList(cutoffs=natural_cutoffs(trajectory[0], mult=1.), self_interaction=False, bothways=True)\n",
    "neighbor_list.update(trajectory[0])\n",
    "\n",
    "o_neighbors = []\n",
    "for o_index in o_indices:\n",
    "    o_neighbors.append(np.append([o_index], neighbor_list.get_neighbors(o_index)[0]))"
   ]
  },
  {
   "cell_type": "code",
   "execution_count": null,
   "metadata": {},
   "outputs": [],
   "source": [
    "o_symbols = []\n",
    "for o_neighbor in o_neighbors:\n",
    "    o_symbols.append(trajectory[0][o_neighbor].get_chemical_formula(mode='hill'))\n",
    "\n",
    "configs = pd.Series(o_symbols).value_counts()\n",
    "print(configs)"
   ]
  },
  {
   "attachments": {},
   "cell_type": "markdown",
   "metadata": {},
   "source": [
    "## Analyse Atomic Descriptors\n",
    "\n",
    "Use kernelPCA or PCA to build a low dimensional representation of the SOAP operators.\n",
    "Ideally, the defect site should show up seperately on this representation."
   ]
  },
  {
   "cell_type": "code",
   "execution_count": null,
   "metadata": {},
   "outputs": [],
   "source": [
    "is_bulk = np.asarray(['Ti' in o_symbol for o_symbol in o_symbols], dtype=bool)\n",
    "bulk_symbols = [o_symbol for ii_symbol, o_symbol in enumerate(o_symbols) if is_bulk[ii_symbol]]\n",
    "\n",
    "pca = PCA(n_components=2)\n",
    "reduction = pca.fit_transform(soaps)\n",
    "kernel_pca = KernelPCA(n_components=2)\n",
    "kernel_reduction = kernel_pca.fit_transform(soaps)  # , kernel='rbf')\n",
    "bulk_pca = PCA(n_components=2)\n",
    "bulk_reduction = bulk_pca.fit_transform(soaps[is_bulk])\n",
    "bulk_kernel_reduction = KernelPCA(n_components=2).fit_transform(soaps[is_bulk])"
   ]
  },
  {
   "cell_type": "code",
   "execution_count": null,
   "metadata": {},
   "outputs": [],
   "source": [
    "def draw_2d_scatter(fig, ax, reduction, color_dict, o_symbols):\n",
    "    colors = [color_dict[config] for config in o_symbols]\n",
    "    ax.scatter(reduction[:, 0], reduction[:, 1], c=colors)\n",
    "    return fig, ax\n",
    "\n",
    "fig, axes = plt.subplots(nrows=2, ncols=2, figsize=(8, 8))\n",
    "\n",
    "cmap = plt.cm.get_cmap('tab20', len(configs))\n",
    "norm = plt.Normalize(vmin=-0.5, vmax=len(configs)-0.5)\n",
    "sm = plt.cm.ScalarMappable(cmap=cmap, norm=norm)\n",
    "\n",
    "color_dict = {config: sm.to_rgba(ii_config) for ii_config, config in enumerate(configs.keys())}\n",
    "colors = [color_dict[config] for config in o_symbols]\n",
    "\n",
    "draw_2d_scatter(fig, axes[0, 0], reduction, color_dict, o_symbols)\n",
    "draw_2d_scatter(fig, axes[0, 1], kernel_reduction, color_dict, o_symbols)\n",
    "draw_2d_scatter(fig, axes[1, 0], bulk_reduction, color_dict, bulk_symbols)\n",
    "draw_2d_scatter(fig, axes[1, 1], bulk_kernel_reduction, color_dict, bulk_symbols)\n",
    "\n",
    "axes[0, 0].set_title(\"PCA Map of all O SOAPs\")\n",
    "axes[0, 1].set_title(\"Kernel PCA Map of all O SOAPs\")\n",
    "axes[1, 0].set_title(\"PCA Map of bulk O SOAPs\")\n",
    "axes[1, 1].set_title(\"Kernel PCA Map of bulk O SOAPs\")\n",
    "\n",
    "cb = fig.colorbar(mappable=sm)\n",
    "cb.set_ticks(range(len(configs)), labels=configs.keys())"
   ]
  },
  {
   "attachments": {},
   "cell_type": "markdown",
   "metadata": {},
   "source": [
    "## Building SOAPs and Projections along the whole TiO Surface\n",
    "\n",
    "The previous dimensionality reductions show, that bulk oxygen separates from surface oxygens.\n",
    "Maybe by creating a grid over the surface of the TiO and calculating the SOAPs at certain spaced intervals, a definition of the defect site can be found.\n",
    "Maybe by optimising on this plane (for eg.: largest difference to previous soaps) the site can be found.\n",
    "\n",
    "Although none-surface molecules (such as water) could have an impact on this process, so maybe the molecules should be filtered first for being part of the \"bulk\"."
   ]
  },
  {
   "cell_type": "code",
   "execution_count": null,
   "metadata": {},
   "outputs": [],
   "source": []
  },
  {
   "cell_type": "code",
   "execution_count": null,
   "metadata": {},
   "outputs": [],
   "source": []
  }
 ],
 "metadata": {
  "kernelspec": {
   "display_name": "base",
   "language": "python",
   "name": "python3"
  },
  "language_info": {
   "codemirror_mode": {
    "name": "ipython",
    "version": 3
   },
   "file_extension": ".py",
   "mimetype": "text/x-python",
   "name": "python",
   "nbconvert_exporter": "python",
   "pygments_lexer": "ipython3",
   "version": "3.9.16"
  },
  "orig_nbformat": 4
 },
 "nbformat": 4,
 "nbformat_minor": 2
}
