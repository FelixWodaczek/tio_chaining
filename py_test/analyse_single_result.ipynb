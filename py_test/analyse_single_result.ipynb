{
 "cells": [
  {
   "cell_type": "code",
   "execution_count": null,
   "metadata": {},
   "outputs": [],
   "source": [
    "import matplotlib as mpl\n",
    "import matplotlib.pyplot as plt\n",
    "import numpy as np\n",
    "\n",
    "import ase\n",
    "from ase.neighborlist import natural_cutoffs, NeighborList\n",
    "from ase.io.trajectory import Trajectory\n",
    "from ase.io import read as ase_read\n",
    "\n",
    "import os\n",
    "import json\n",
    "import sys\n",
    "sys.path.append(\"../py_src/\")\n",
    "\n",
    "import hydrogen_tracing\n",
    "import config_plot\n",
    "\n",
    "import re"
   ]
  },
  {
   "cell_type": "code",
   "execution_count": null,
   "metadata": {},
   "outputs": [],
   "source": [
    "traj_path = '../test_data/221220_short_traj/rutile-011-nd-0/out.lammpstrj'\n",
    "trajectory = ase_read(traj_path, index='1000:10000:10')"
   ]
  },
  {
   "cell_type": "code",
   "execution_count": null,
   "metadata": {},
   "outputs": [],
   "source": [
    "dirname = os.path.dirname(traj_path)\n",
    "dirname = '../test_data/230223_short_traj_publike/rutile-011-nd-0'\n",
    "\n",
    "with open(os.path.join(dirname, os.path.basename(dirname)+'_non_numpy.json'), 'r') as f:\n",
    "        non_numpy_results = json.load(f)\n",
    "        config_dict = non_numpy_results['config_dict']\n",
    "        special_list = non_numpy_results['special_list']\n",
    "        f.close()\n",
    "    \n",
    "counts = np.loadtxt(os.path.join(dirname, os.path.basename(dirname)+'_counts.txt'))\n",
    "config_codes = np.loadtxt(os.path.join(dirname, os.path.basename(dirname)+'_config_codes.txt'))\n",
    "hop_list = np.loadtxt(os.path.join(dirname, os.path.basename(dirname)+'_hop_list.txt'))\n",
    "\n",
    "\n",
    "counts = np.asarray(counts, dtype=np.int16)\n",
    "config_codes = np.asarray(config_codes, dtype=np.int8)\n",
    "hop_list = np.asarray(hop_list, dtype=np.int8)"
   ]
  },
  {
   "cell_type": "code",
   "execution_count": null,
   "metadata": {},
   "outputs": [],
   "source": [
    "configs = ['']*len(config_dict)\n",
    "for key, value in config_dict.items():\n",
    "    configs[value] = key\n",
    "\n",
    "total_counts = np.sum(counts, axis=0)\n",
    "print(\"In total found: \")\n",
    "for ii_conf in range(total_counts.shape[0]):\n",
    "    print(configs[ii_conf]+': ', total_counts[ii_conf])"
   ]
  },
  {
   "cell_type": "code",
   "execution_count": null,
   "metadata": {},
   "outputs": [],
   "source": [
    "import pandas as pd\n",
    "\n",
    "symbols = []\n",
    "for ii_special, specials in enumerate(special_list):\n",
    "    ii_snapshot = ii_special + 1\n",
    "    snapshot = trajectory[ii_snapshot]\n",
    "    for special_config in specials:\n",
    "        symbols.append(snapshot[special_config].get_chemical_formula(mode='hill'))\n",
    "        \n",
    "count = pd.Series(symbols).value_counts()\n",
    "print(count)"
   ]
  },
  {
   "cell_type": "code",
   "execution_count": null,
   "metadata": {},
   "outputs": [],
   "source": [
    "target_timesteps = []\n",
    "target_specials = []\n",
    "\n",
    "count_special = 0\n",
    "for ts, special_config in enumerate(special_list):\n",
    "    for specials in special_config:\n",
    "        if specials:\n",
    "            if hop_list[count_special] == 1:\n",
    "                target_timesteps.append(ts)\n",
    "                target_specials.append(specials)\n",
    "                print((10*ts)+1000, count_special)\n",
    "                print(specials)\n",
    "            count_special += 1\n",
    "\n",
    "print(count_special, len(hop_list))"
   ]
  },
  {
   "cell_type": "code",
   "execution_count": null,
   "metadata": {},
   "outputs": [],
   "source": [
    "\n",
    "%matplotlib auto\n",
    "tar = 8\n",
    "print(\"Timestep: \", target_timesteps[tar]+1)\n",
    "print(\"Special O: \", target_specials[tar][-1])\n",
    "config_plot.configPlotter.plot_snapshot(trajectory[target_timesteps[tar]+1], target_specials[tar][-1], target_specials[tar][:-1])\n",
    "plt.show()"
   ]
  },
  {
   "cell_type": "code",
   "execution_count": null,
   "metadata": {},
   "outputs": [],
   "source": [
    "%matplotlib inline\n",
    "print(np.min(hop_list), np.max(hop_list))\n",
    "hop_counts = np.bincount(hop_list-np.min(hop_list))\n",
    "print(hop_counts)\n",
    "\n",
    "#-8, -7, -6, -5 ... -1\n",
    "labels = [\"Exchange of H?\", \"H ends at\\nHOTi->H2O Ti\", \"H ends at\\nHOTi->H2O Ti\", \"No change at site\", \"Surface Hopping\", \"Wrong Oxygen Observed\", \"H20 close to HOTi\", \"OTi gaining H\", \"OTi losing H\"]\n",
    "labels += np.arange(0, np.max(hop_list)+1).tolist()\n",
    "\n",
    "fig, ax = plt.subplots(1, 1, figsize=(6, 6))\n",
    "ax.set_title(\"Analysis of Ti hopping for H2O Splitting\")\n",
    "ax.set_xlabel('Error Codes \\ Number of Hops')\n",
    "ax.set_ylabel('# of occurences')\n",
    "\n",
    "ax.bar(np.arange(np.min(hop_list), np.max(hop_list)+1), hop_counts)\n",
    "\n",
    "ax.set_xticks(\n",
    "    np.arange(np.min(hop_list), np.max(hop_list)+1),\n",
    "    labels[-(np.max(hop_list) + 1 - np.min(hop_list)):],\n",
    "    rotation=-45, ha=\"left\"\n",
    ")\n",
    "plt.show()"
   ]
  },
  {
   "cell_type": "code",
   "execution_count": null,
   "metadata": {},
   "outputs": [],
   "source": [
    "%matplotlib inline\n",
    "plot_counts = np.bincount(hop_list-np.min(hop_list))\n",
    "non_zero = np.argwhere(plot_counts!=0)\n",
    "\n",
    "plot_counts[-3] = plot_counts[-2] + plot_counts[-3]\n",
    "plot_counts = np.delete(plot_counts, [-2])\n",
    "labels = [\"H ends at\\nHOTi->H2O Ti\", \"H20 close to HOTi\", \"H20 close to OTi\"]\n",
    "labels += np.arange(0, np.max(hop_list)+1).tolist()\n",
    "plot_counts = plot_counts[plot_counts!=0]\n",
    "\n",
    "structure = \"Anatase 101\"\n",
    "\n",
    "fig, ax = plt.subplots(1, 1, figsize=(6, 6))\n",
    "ax.set_title(\"Process for TiO losing or gaining an H: %s\"%structure)\n",
    "ax.set_xlabel('Process / Number of H20 before H bonds to TiO')\n",
    "ax.set_ylabel('# of occurences')\n",
    "\n",
    "ax.bar(np.arange(0, len(plot_counts)), plot_counts)\n",
    "\n",
    "ax.set_xticks(\n",
    "    np.arange(0, len(plot_counts)),\n",
    "    labels,\n",
    "    rotation=-45, ha=\"center\"\n",
    "    )\n",
    "plt.tight_layout()\n",
    "fig.savefig(\"%s_bars.pdf\"%structure, format='pdf')\n",
    "plt.show()"
   ]
  },
  {
   "cell_type": "code",
   "execution_count": null,
   "metadata": {},
   "outputs": [],
   "source": [
    "draw_codes = config_codes.copy()[1:, :]\n",
    "\n",
    "water_bound = np.array([0, 3, 4], dtype=np.int8)\n",
    "bulk_bound = np.array([1, 2], dtype=np.int8)\n",
    "\n",
    "wb_tf = np.any(draw_codes[..., np.newaxis] == water_bound[np.newaxis, np.newaxis, :], axis=-1)\n",
    "\n",
    "# Filter out oxygen that never changes state\n",
    "has_changed = np.any(draw_codes != draw_codes[0, :], axis=0)\n",
    "always_waterbound = np.all(np.any(draw_codes[..., np.newaxis] == water_bound[np.newaxis, np.newaxis, :], axis=-1), axis=0)\n",
    "always_bulk = np.all(np.any(draw_codes[..., np.newaxis] == bulk_bound[np.newaxis, np.newaxis, :], axis=-1), axis=0)\n",
    "always_relevant = np.logical_not(np.logical_or(always_waterbound, always_bulk))\n",
    "\n",
    "particle_selection = np.logical_and(has_changed, always_relevant)\n",
    "\n",
    "draw_codes = draw_codes[:, particle_selection]\n",
    "draw_codes = draw_codes[:, :]\n",
    "\n",
    "norm = mpl.colors.Normalize(vmin=np.min([v for v in config_dict.values()]), vmax=np.max([v for v in config_dict.values()]))\n",
    "fig, ax = plt.subplots(1, 1, figsize=(25, 6))\n",
    "im = ax.imshow(draw_codes.T, aspect='auto', norm=norm, cmap=\"tab10\", interpolation='nearest')\n",
    "ax.set_title('Time development of Active Oxygen Sites')\n",
    "ax.set_ylabel(\"Active Oxygen Index\")\n",
    "ax.set_xlabel('timestep')\n",
    "ax.set_xlim([0, draw_codes.shape[0]-1])\n",
    "cb = fig.colorbar(im, label=\"Configuration\")\n",
    "cb.ax.set_yticks(np.arange(len(config_dict)), labels=[key for key in config_dict.keys()])\n",
    "fig.savefig(\"%s_timedev.pdf\"%structure, format='pdf')\n",
    "plt.show()"
   ]
  },
  {
   "cell_type": "code",
   "execution_count": null,
   "metadata": {},
   "outputs": [],
   "source": []
  }
 ],
 "metadata": {
  "kernelspec": {
   "display_name": "Python 3 (ipykernel)",
   "language": "python",
   "name": "python3"
  },
  "language_info": {
   "codemirror_mode": {
    "name": "ipython",
    "version": 3
   },
   "file_extension": ".py",
   "mimetype": "text/x-python",
   "name": "python",
   "nbconvert_exporter": "python",
   "pygments_lexer": "ipython3",
   "version": "3.9.16"
  },
  "vscode": {
   "interpreter": {
    "hash": "89c38489e3a3631c28bb34ee29ee1d19eecb11ca19c23361330a3cc012ae8209"
   }
  }
 },
 "nbformat": 4,
 "nbformat_minor": 2
}
