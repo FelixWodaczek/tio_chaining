{
 "cells": [
  {
   "cell_type": "code",
   "execution_count": null,
   "metadata": {},
   "outputs": [],
   "source": [
    "import matplotlib as mpl\n",
    "import matplotlib.pyplot as plt\n",
    "import matplotlib.patches as mpatches\n",
    "import numpy as np\n",
    "\n",
    "import ase\n",
    "from ase.neighborlist import natural_cutoffs, NeighborList\n",
    "from ase.io.trajectory import Trajectory\n",
    "from ase.io import read as ase_read\n",
    "\n",
    "import os\n",
    "import json\n",
    "import sys\n",
    "sys.path.append(\"../py_src/\")\n",
    "\n",
    "import hydrogen_tracing\n",
    "import config_plot\n",
    "\n",
    "import re"
   ]
  },
  {
   "cell_type": "code",
   "execution_count": null,
   "metadata": {},
   "outputs": [],
   "source": [
    "is_rutile = True"
   ]
  },
  {
   "cell_type": "code",
   "execution_count": null,
   "metadata": {},
   "outputs": [],
   "source": [
    "rutile_dirs = [\n",
    "    \"rutile-001-nd-0\",\n",
    "    \"rutile-011-nd-0\",\n",
    "    \"rutile-100-nd-0\",\n",
    "    \"rutile-110-nd-0\",\n",
    "]\n",
    "\n",
    "anatase_dirs = [\n",
    "    \"anatase-100-nd-0\",\n",
    "    \"anatase-101-nd-0\", \n",
    "    \"anatase-110-nd-0\", \n",
    "]\n",
    "\n",
    "if is_rutile:\n",
    "    target_dirs = rutile_dirs\n",
    "    savestr = 'rutile'\n",
    "else:\n",
    "    target_dirs = anatase_dirs\n",
    "    savestr = 'anatase'"
   ]
  },
  {
   "cell_type": "code",
   "execution_count": null,
   "metadata": {},
   "outputs": [],
   "source": [
    "all_counts = []\n",
    "all_config_codes = []\n",
    "all_hop_lists = []\n",
    "\n",
    "all_bins = []\n",
    "bin_maxes = []\n",
    "bin_mins = []\n",
    "\n",
    "total_min = -9\n",
    "total_max = 0\n",
    "\n",
    "for dirname in target_dirs:\n",
    "    dirname = \"../test_data/230302_short_traj_publike_all/\" + dirname\n",
    "\n",
    "    with open(os.path.join(dirname, os.path.basename(dirname)+'_non_numpy.json'), 'r') as f:\n",
    "            non_numpy_results = json.load(f)\n",
    "            config_dict = non_numpy_results['config_dict']\n",
    "            special_list = non_numpy_results['special_list']\n",
    "            f.close()\n",
    "\n",
    "    counts = np.loadtxt(os.path.join(dirname, os.path.basename(dirname)+'_counts.txt'))\n",
    "    config_codes = np.loadtxt(os.path.join(dirname, os.path.basename(dirname)+'_config_codes.txt'))\n",
    "    hop_list = np.loadtxt(os.path.join(dirname, os.path.basename(dirname)+'_hop_list.txt'))\n",
    "\n",
    "    all_counts.append(np.asarray(counts, dtype=np.int16))\n",
    "    all_config_codes.append(np.asarray(config_codes, dtype=np.int8))\n",
    "    all_hop_lists.append(np.asarray(hop_list, dtype=np.int8))\n",
    "\n",
    "    # Make bin counts from last hop_list\n",
    "    all_bins.append(np.bincount(all_hop_lists[-1]-np.min(all_hop_lists[-1])))\n",
    "    bin_mins.append(np.min(all_hop_lists[-1]))\n",
    "    bin_maxes.append(np.max(all_hop_lists[-1]))\n",
    "\n",
    "    total_min = np.min(bin_mins)\n",
    "    total_max = np.max(bin_maxes)\n",
    "        \n",
    "total_min = -9"
   ]
  },
  {
   "cell_type": "code",
   "execution_count": null,
   "metadata": {},
   "outputs": [],
   "source": [
    "buff_bins = np.zeros((len(target_dirs), total_max-total_min+1))\n",
    "for ii_bin, bincount in enumerate(all_bins):\n",
    "    buff_bins[ii_bin, bin_mins[ii_bin]-total_min:bin_mins[ii_bin]-total_min+len(bincount)] = bincount\n",
    "\n",
    "all_bins = buff_bins\n",
    "label_range = np.arange(total_min, total_max+1)"
   ]
  },
  {
   "cell_type": "code",
   "execution_count": null,
   "metadata": {},
   "outputs": [],
   "source": [
    "%matplotlib inline\n",
    "\n",
    "# -9, -8, -7, -6, -5 ... -1\n",
    "labels = [\"Exchange of H?\", \"Undef.\", \"H20+Ti->H+HOTi\\nH+HOTi->H2O+Ti\", \"Flyby\", \"Surface Hopping\", \"Flyby\", \"H20 close to HOTi\", \"OTi gaining H\", \"OTi losing H\"]\n",
    "labels += np.arange(0, np.max(total_max)+1).tolist()\n",
    "\n",
    "fig, ax = plt.subplots(1, 1, figsize=(6, 6))\n",
    "ax.set_title(\"Analysis of Ti hopping for H2O Splitting\")\n",
    "ax.set_xlabel('Error Codes \\ Number of Hops')\n",
    "ax.set_ylabel('# of occurences')\n",
    "\n",
    "n_bars = len(target_dirs)\n",
    "if n_bars % 2: # not even:\n",
    "    offsets = (np.arange(1, n_bars+1) - np.ceil(n_bars/2.)) / n_bars\n",
    "else:\n",
    "    offsets = (np.arange(n_bars) + 0.5 - (n_bars/2)) / n_bars\n",
    "\n",
    "for ii_dir in range(n_bars):\n",
    "    hop_counts = all_bins[ii_dir]\n",
    "    ax.bar(label_range + offsets[ii_dir], hop_counts, width=1./n_bars, label=target_dirs[ii_dir])\n",
    "\n",
    "ax.set_xticks(\n",
    "    label_range,\n",
    "    labels,\n",
    "    rotation=-45, ha=\"left\"\n",
    ")\n",
    "ax.legend()\n",
    "plt.show()"
   ]
  },
  {
   "cell_type": "code",
   "execution_count": null,
   "metadata": {},
   "outputs": [],
   "source": [
    "cutoff_lim = 1\n",
    "for ii_label, label in enumerate(labels):\n",
    "    try:\n",
    "        int(label)\n",
    "        num_ind = ii_label\n",
    "        break\n",
    "    except:\n",
    "        pass\n",
    "    \n",
    "plot_bins = all_bins[:, num_ind:]\n",
    "plot_bins[plot_bins<=cutoff_lim] = 0"
   ]
  },
  {
   "cell_type": "code",
   "execution_count": null,
   "metadata": {},
   "outputs": [],
   "source": [
    "print(labels)\n",
    "print(plot_bins)"
   ]
  },
  {
   "cell_type": "code",
   "execution_count": null,
   "metadata": {},
   "outputs": [],
   "source": [
    "fig, ax = plt.subplots(figsize=(4, 3))\n",
    "plt.rcParams['hatch.linewidth'] = 2\n",
    "plt.rcParams.update({'hatch.color': 'w'})\n",
    "\n",
    "if is_rutile:\n",
    "    x_range = np.arange(4)\n",
    "else:\n",
    "    x_range = np.arange(3)\n",
    "\n",
    "width = 0.4\n",
    "\n",
    "ax.bar(x=x_range-width/2, height=plot_bins[:, 0], width=width, color='tab:blue')\n",
    "ax.bar(x=x_range+width/2, height=plot_bins[:, 1], width=width, color='tab:orange')\n",
    "ax.bar(x=x_range-width/2, height=plot_bins[:, 2], bottom=plot_bins[:, 0], width=width, color='tab:blue', hatch='//')\n",
    "try:\n",
    "    ax.bar(x=x_range+width/2, height=plot_bins[:, 3], bottom=plot_bins[:, 1], width=width, color='tab:orange', hatch='//')\n",
    "except: # If there is no two step dissociations\n",
    "    pass \n",
    "\n",
    "ax.set_ylim(ax.get_ylim()[0], ax.get_ylim()[1]+50)\n",
    "\n",
    "ax.set_xticks(x_range, target_dirs, rotation=-30, horizontalalignment='center')\n",
    "if False:\n",
    "    ax.legend(handles=[\n",
    "        mpatches.Patch(facecolor='tab:blue', edgecolor='w', label='one-step dissociations'),\n",
    "        mpatches.Patch(facecolor='tab:orange', edgecolor='w', label='two-step dissociations'),\n",
    "        # mpatches.Patch(facecolor='tab:blue', edgecolor='w', label='one-step proton transfers', hatch='//'),\n",
    "        mpatches.Patch(facecolor='tab:orange', edgecolor='w', label='two-step proton transfers', hatch='//')\n",
    "    ])\n",
    "\n",
    "fig.savefig(\"paperstep_%s.pdf\"%savestr, format='pdf', bbox_inches='tight', dpi=300)\n",
    "plt.show()"
   ]
  },
  {
   "cell_type": "code",
   "execution_count": null,
   "metadata": {},
   "outputs": [],
   "source": []
  }
 ],
 "metadata": {
  "kernelspec": {
   "display_name": "base",
   "language": "python",
   "name": "python3"
  },
  "language_info": {
   "codemirror_mode": {
    "name": "ipython",
    "version": 3
   },
   "file_extension": ".py",
   "mimetype": "text/x-python",
   "name": "python",
   "nbconvert_exporter": "python",
   "pygments_lexer": "ipython3",
   "version": "3.9.16"
  },
  "orig_nbformat": 4,
  "vscode": {
   "interpreter": {
    "hash": "89c38489e3a3631c28bb34ee29ee1d19eecb11ca19c23361330a3cc012ae8209"
   }
  }
 },
 "nbformat": 4,
 "nbformat_minor": 2
}
